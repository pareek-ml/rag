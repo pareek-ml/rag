{
 "cells": [
  {
   "cell_type": "code",
   "execution_count": null,
   "id": "4ef3df07",
   "metadata": {},
   "outputs": [],
   "source": [
    "import requests\n",
    "import json\n",
    "\n",
    "# from get_context import chroma_client, retreieve_results\n",
    "\n",
    "\n",
    "def get_sql_query(\n",
    "    query: str,\n",
    "):\n",
    "\n",
    "    # schema = retreieve_results(vector_store, query)\n",
    "    url = \"http://localhost:8080/v1/chat/completions\"\n",
    "\n",
    "    headers = {\"Content-Type\": \"application/json\"}\n",
    "\n",
    "    data = {\n",
    "        \"model\": \"Llama-3.2-3B-Instruct-F16.gguf\",  # your local model name; can be anything\n",
    "        \"messages\": [\n",
    "            {\n",
    "                \"role\": \"system\",\n",
    "                \"content\": \"\"\"You are an AI assistant that classifies user queries as either \"specific\" or \"general\". What ever the input, you classifya s either \"specific\" or \"general\".\n",
    "\n",
    "                A \"specific\" query refers to something that can be answered with a factual, data-driven, or concrete response — such as those involving dates, counts, or database-style queries.\n",
    "\n",
    "                A \"general\" query refers to open-ended, opinion-based, or abstract questions that don't rely on structured data.\n",
    "\n",
    "                Return a JSON object in the format: {\"intent\": \"specific\"} or {\"intent\": \"general\"}\n",
    "\n",
    "                Examples:\n",
    "                Query: How many users signed up in 2023?\n",
    "                {\"intent\": \"specific\"}\n",
    "\n",
    "                Query: What is the capital of France?\n",
    "                {\"intent\": \"general\"}\n",
    "\n",
    "                Query: What makes a good concert experience?\n",
    "                {\"intent\": \"general\"}\n",
    "\n",
    "                Query: List all concerts held in 2022.\n",
    "                {\"intent\": \"specific\"}\n",
    "\n",
    "                Query: How many people were there in concert between 2024 and 2025?\n",
    "                {\"intent\": \"specific\"}\n",
    "\n",
    "\n",
    "                \"\"\",\n",
    "            },\n",
    "            {\n",
    "                \"role\": \"user\",\n",
    "                \"content\": query,\n",
    "            },\n",
    "        ],\n",
    "        \"temperature\": 0.3,\n",
    "        \"max_tokens\": 50,\n",
    "    }\n",
    "    response = requests.post(url, headers=headers, json=data)\n",
    "\n",
    "    return json.loads(response.json()[\"choices\"][0][\"message\"][\"content\"])[\"intent\"]"
   ]
  },
  {
   "cell_type": "code",
   "execution_count": 65,
   "id": "f381e7fe",
   "metadata": {},
   "outputs": [
    {
     "data": {
      "text/plain": [
       "'general'"
      ]
     },
     "execution_count": 65,
     "metadata": {},
     "output_type": "execute_result"
    }
   ],
   "source": [
    "get_sql_query(\"hello\")"
   ]
  },
  {
   "cell_type": "code",
   "execution_count": null,
   "id": "55aff1bb",
   "metadata": {},
   "outputs": [],
   "source": []
  }
 ],
 "metadata": {
  "kernelspec": {
   "display_name": "dev",
   "language": "python",
   "name": "python3"
  },
  "language_info": {
   "codemirror_mode": {
    "name": "ipython",
    "version": 3
   },
   "file_extension": ".py",
   "mimetype": "text/x-python",
   "name": "python",
   "nbconvert_exporter": "python",
   "pygments_lexer": "ipython3",
   "version": "3.12.6"
  }
 },
 "nbformat": 4,
 "nbformat_minor": 5
}
