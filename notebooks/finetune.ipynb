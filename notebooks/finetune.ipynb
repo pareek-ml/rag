{
 "cells": [
  {
   "cell_type": "code",
   "execution_count": 23,
   "id": "c829ccfa",
   "metadata": {},
   "outputs": [],
   "source": [
    "from pathlib import Path\n",
    "from datasets import load_dataset\n",
    "\n",
    "ProjectPath = Path().resolve().parent"
   ]
  },
  {
   "cell_type": "code",
   "execution_count": 51,
   "id": "b31d5148",
   "metadata": {},
   "outputs": [],
   "source": [
    "dataset_path = ProjectPath / \"data/finetune/processed/\"\n",
    "# finetune_dataset = load_dataset(\"csv\", data_files=str(dataset_path))"
   ]
  },
  {
   "cell_type": "code",
   "execution_count": 22,
   "id": "0d607581",
   "metadata": {},
   "outputs": [
    {
     "data": {
      "text/plain": [
       "2027"
      ]
     },
     "execution_count": 22,
     "metadata": {},
     "output_type": "execute_result"
    }
   ],
   "source": [
    "len(\n",
    "    \"-- Database schema | artists : id [ INT ] primary_key , name [ TEXT ] | sqlite_sequence : name [ TEXT ] , seq [ TEXT ] | albums : id [ INT ] primary_key , title [ TEXT ] , artist_id [ INT ] albums.artist_id = artists.id | employees : id [ INT ] primary_key , last_name [ TEXT ] , first_name [ TEXT ] , title [ TEXT ] , reports_to [ INT ] employees.reports_to = employees.id , birth_date [ TEXT ] , hire_date [ TEXT ] , address [ TEXT ] , city [ TEXT ] , state [ TEXT ] , country [ TEXT ] , postal_code [ TEXT ] , phone [ TEXT ] , fax [ TEXT ] , email [ TEXT ] | customers : id [ INT ] primary_key , first_name [ TEXT ] , last_name [ TEXT ] , company [ TEXT ] , address [ TEXT ] , city [ TEXT ] , state [ TEXT ] , country [ TEXT ] , postal_code [ TEXT ] , phone [ TEXT ] , fax [ TEXT ] , email [ TEXT ] , support_rep_id [ INT ] customers.support_rep_id = employees.id | genres : id [ INT ] primary_key , name [ TEXT ] | invoices : id [ INT ] primary_key , customer_id [ INT ] invoices.customer_id = customers.id , invoice_date [ TEXT ] , billing_address [ TEXT ] , billing_city [ TEXT ] , billing_state [ TEXT ] , billing_country [ TEXT ] , billing_postal_code [ TEXT ] , total [ INT ] | media_types : id [ INT ] primary_key , name [ TEXT ] | tracks : id [ INT ] primary_key , name [ TEXT ] , album_id [ INT ] tracks.album_id = albums.id , media_type_id [ INT ] tracks.media_type_id = media_types.id , genre_id [ INT ] tracks.genre_id = genres.id , composer [ TEXT ] , milliseconds [ INT ] , bytes [ INT ] , unit_price [ INT ] | invoice_lines : id [ INT ] primary_key , invoice_id [ INT ] invoice_lines.invoice_id = invoices.id , track_id [ INT ] invoice_lines.track_id = tracks.id , unit_price [ INT ] , quantity [ INT ] | playlists : id [ INT ] primary_key , name [ TEXT ] | playlist_tracks : playlist_id [ INT ] primary_key playlist_tracks.playlist_id = playlists.id , track_id [ INT ] playlist_tracks.track_id = tracks.id | -- -- A list of the top 5 countries by number of invoices. List country name and number of invoices.\"\n",
    ")"
   ]
  },
  {
   "cell_type": "code",
   "execution_count": 46,
   "id": "47fd7ad0",
   "metadata": {},
   "outputs": [],
   "source": [
    "import pandas as pd\n",
    "\n",
    "df = pd.read_csv(\n",
    "    dataset_path,\n",
    ")"
   ]
  },
  {
   "cell_type": "code",
   "execution_count": 49,
   "id": "b84f48c6",
   "metadata": {},
   "outputs": [],
   "source": [
    "# Filter rows where the length of 'input' is less than 3000\n",
    "df_filter = df[df[\"input\"].str.len() < 3000]"
   ]
  },
  {
   "cell_type": "code",
   "execution_count": 57,
   "id": "ac6ae9e6",
   "metadata": {},
   "outputs": [],
   "source": [
    "df_filter.to_json(\n",
    "    dataset_path / \"train_filter.jsonl\", index=False, orient=\"records\", lines=True\n",
    ")"
   ]
  },
  {
   "cell_type": "code",
   "execution_count": 58,
   "id": "0daa26de",
   "metadata": {},
   "outputs": [],
   "source": [
    "import json\n",
    "\n",
    "system_prompt = \"Given the following database schema and natural language question, write the SQL query that answers the question.\"\n",
    "\n",
    "with open(dataset_path / \"azure_sql_finetune.jsonl\", \"w\") as f_out:\n",
    "    for _, row in df_filter.iterrows():\n",
    "        formatted = {\n",
    "            \"messages\": [\n",
    "                {\"role\": \"system\", \"content\": system_prompt},\n",
    "                {\"role\": \"user\", \"content\": row[\"input\"]},\n",
    "                {\"role\": \"assistant\", \"content\": row[\"output\"]},\n",
    "            ]\n",
    "        }\n",
    "        f_out.write(json.dumps(formatted) + \"\\n\")"
   ]
  }
 ],
 "metadata": {
  "kernelspec": {
   "display_name": "dev",
   "language": "python",
   "name": "python3"
  },
  "language_info": {
   "codemirror_mode": {
    "name": "ipython",
    "version": 3
   },
   "file_extension": ".py",
   "mimetype": "text/x-python",
   "name": "python",
   "nbconvert_exporter": "python",
   "pygments_lexer": "ipython3",
   "version": "3.12.6"
  }
 },
 "nbformat": 4,
 "nbformat_minor": 5
}
