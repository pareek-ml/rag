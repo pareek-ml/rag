{
 "cells": [
  {
   "cell_type": "markdown",
   "id": "a6675cd0",
   "metadata": {},
   "source": [
    "# Query ChromaDB Vector Store\n",
    "\n",
    "This notebook demonstrates how to query the ChromaDB vector store we created for SQL RAG."
   ]
  },
  {
   "cell_type": "code",
   "execution_count": 112,
   "id": "d167b179",
   "metadata": {},
   "outputs": [],
   "source": [
    "# Import necessary modules\n",
    "import sys\n",
    "import os\n",
    "import pandas as pd\n",
    "\n",
    "# Add the src directory to path so we can import our modules\n",
    "sys.path.append(\"../src\")\n",
    "\n",
    "# Import our ChromaVectorStore class\n",
    "from rag.vectorstore.chroma import ChromaVectorStore"
   ]
  },
  {
   "cell_type": "markdown",
   "id": "fadc205d",
   "metadata": {},
   "source": [
    "## Connect to the Existing Vector Store\n",
    "\n",
    "First, let's connect to our existing ChromaDB vector store that we populated with SQL examples."
   ]
  },
  {
   "cell_type": "code",
   "execution_count": 113,
   "id": "efdd5c94",
   "metadata": {},
   "outputs": [
    {
     "name": "stdout",
     "output_type": "stream",
     "text": [
      "Connected to the ChromaDB vector store\n"
     ]
    }
   ],
   "source": [
    "# Path to the vector store\n",
    "vector_store_path = \"../src/rag/vectorstore\"\n",
    "\n",
    "# Initialize the vector store with the existing data\n",
    "vector_store = ChromaVectorStore(persist_directory=vector_store_path)\n",
    "\n",
    "print(\"Connected to the ChromaDB vector store\")"
   ]
  },
  {
   "cell_type": "markdown",
   "id": "4c6c5b60",
   "metadata": {},
   "source": [
    "## Retrieve a Single Result\n",
    "\n",
    "Now let's query the vector store to get just one relevant result."
   ]
  },
  {
   "cell_type": "code",
   "execution_count": 114,
   "id": "60c342e7",
   "metadata": {},
   "outputs": [
    {
     "name": "stdout",
     "output_type": "stream",
     "text": [
      "Similarity: 1.0000\n",
      "Question: \n",
      "SQL: \n",
      "Schema: \n",
      "---\n",
      "Similarity: 0.9430\n",
      "Question: \n",
      "SQL: \n",
      "Schema: \n",
      "---\n",
      "Similarity: 0.8723\n",
      "Question: \n",
      "SQL: \n",
      "Schema: \n",
      "---\n"
     ]
    }
   ],
   "source": [
    "# Define a sample question to query the vector store\n",
    "sample_question = \"How many singers do we have?\"\n",
    "\n",
    "# Set k=1 to get exactly one result\n",
    "results = vector_store.retrieve_relevant_question_sql(sample_question, k=3)\n",
    "\n",
    "for result in results:\n",
    "    print(f\"Similarity: {result['similarity']:.4f}\")\n",
    "    print(f\"Question: {result['question']}\")\n",
    "    print(f\"SQL: {result['sql']}\")\n",
    "    print(f\"Schema: {result['schema']}\")\n",
    "    print(\"---\")"
   ]
  },
  {
   "cell_type": "markdown",
   "id": "4417a8f3",
   "metadata": {},
   "source": [
    "## View All Available Data\n",
    "\n",
    "Let's see how many examples are in our vector store in total."
   ]
  },
  {
   "cell_type": "code",
   "execution_count": 111,
   "id": "5fb4ec85",
   "metadata": {},
   "outputs": [
    {
     "name": "stdout",
     "output_type": "stream",
     "text": [
      "Total number of examples in the vector store: 1034\n",
      "\n",
      "First example:\n",
      "id            ca2b9ef2-4696-4030-9eb3-32b0c2cce8ba\n",
      "collection                            question_sql\n",
      "schema                                            \n",
      "question                                          \n",
      "sql                                               \n",
      "Name: 0, dtype: object\n"
     ]
    }
   ],
   "source": [
    "# Get all data from the vector store\n",
    "all_data = vector_store.fetch_all_vectorstore_data()\n",
    "\n",
    "print(f\"Total number of examples in the vector store: {len(all_data)}\")\n",
    "\n",
    "# Show the first result if any exists\n",
    "if not all_data.empty:\n",
    "    print(\"\\nFirst example:\")\n",
    "    print(all_data.iloc[0])\n",
    "else:\n",
    "    print(\n",
    "        \"No data found in the vector store. Please run the load_data.py script first.\"\n",
    "    )"
   ]
  },
  {
   "cell_type": "code",
   "execution_count": 98,
   "id": "15f94372",
   "metadata": {},
   "outputs": [
    {
     "name": "stdout",
     "output_type": "stream",
     "text": [
      "[{'id': 'ca2b9ef2-4696-4030-9eb3-32b0c2cce8ba', 'schema': '', 'question': '', 'sql': '', 'similarity': 1.0000001192092896}, {'id': '2d4370c5-dac8-430d-9924-943fe95f750e', 'schema': '', 'question': '', 'sql': '', 'similarity': 0.9430298209190369}, {'id': '43165215-fc93-4ffb-8285-77a259ba4165', 'schema': '', 'question': '', 'sql': '', 'similarity': 0.8723382353782654}]\n"
     ]
    }
   ],
   "source": [
    "print(results)"
   ]
  },
  {
   "cell_type": "code",
   "execution_count": null,
   "id": "d0bf4802",
   "metadata": {},
   "outputs": [],
   "source": []
  }
 ],
 "metadata": {
  "kernelspec": {
   "display_name": "dev",
   "language": "python",
   "name": "python3"
  },
  "language_info": {
   "codemirror_mode": {
    "name": "ipython",
    "version": 3
   },
   "file_extension": ".py",
   "mimetype": "text/x-python",
   "name": "python",
   "nbconvert_exporter": "python",
   "pygments_lexer": "ipython3",
   "version": "3.12.6"
  }
 },
 "nbformat": 4,
 "nbformat_minor": 5
}
