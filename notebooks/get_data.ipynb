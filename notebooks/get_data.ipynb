{
 "cells": [
  {
   "cell_type": "code",
   "execution_count": null,
   "id": "ec59c3e7",
   "metadata": {},
   "outputs": [],
   "source": [
    "from pathlib import Path\n",
    "\n",
    "ProjectPath = Path().resolve().parent"
   ]
  },
  {
   "cell_type": "code",
   "execution_count": null,
   "id": "4fc0228b",
   "metadata": {},
   "outputs": [],
   "source": [
    "from datasets import load_dataset\n",
    "\n",
    "ds = load_dataset(\"lamini/text_to_sql_finetune\")"
   ]
  },
  {
   "cell_type": "code",
   "execution_count": null,
   "id": "05cda1d7",
   "metadata": {},
   "outputs": [],
   "source": [
    "import pandas as pd\n",
    "\n",
    "# For safety let's just save the data locally as well\n",
    "# Convert the 'train' dataset to a DataFrame and save it as a CSV\n",
    "train_df, test_df = pd.DataFrame(ds[\"train\"][:]), pd.DataFrame(ds[\"test\"][:])\n",
    "train_df.to_csv(ProjectPath / \"data/finetune/processed/train.csv\", index=False)\n",
    "test_df.to_csv(ProjectPath / \"data/rag/processed/test.csv\", index=False)"
   ]
  }
 ],
 "metadata": {
  "language_info": {
   "name": "python"
  }
 },
 "nbformat": 4,
 "nbformat_minor": 5
}
